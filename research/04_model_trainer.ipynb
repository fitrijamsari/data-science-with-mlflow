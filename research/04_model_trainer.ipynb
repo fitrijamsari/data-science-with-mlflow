{
 "cells": [
  {
   "cell_type": "code",
   "execution_count": 1,
   "metadata": {},
   "outputs": [
    {
     "data": {
      "text/plain": [
       "'/Users/ofotech_fitri/Documents/fitri_github/data-science-with-mlflow/research'"
      ]
     },
     "execution_count": 1,
     "metadata": {},
     "output_type": "execute_result"
    }
   ],
   "source": [
    "import os\n",
    "%pwd"
   ]
  },
  {
   "cell_type": "code",
   "execution_count": 2,
   "metadata": {},
   "outputs": [
    {
     "data": {
      "text/plain": [
       "'/Users/ofotech_fitri/Documents/fitri_github/data-science-with-mlflow'"
      ]
     },
     "execution_count": 2,
     "metadata": {},
     "output_type": "execute_result"
    }
   ],
   "source": [
    "os.chdir(\"../\")\n",
    "%pwd"
   ]
  },
  {
   "cell_type": "markdown",
   "metadata": {},
   "source": [
    "# Update Entity"
   ]
  },
  {
   "cell_type": "code",
   "execution_count": 3,
   "metadata": {},
   "outputs": [],
   "source": [
    "from dataclasses import dataclass\n",
    "from pathlib import Path\n",
    "\n",
    "@dataclass(frozen=True)\n",
    "class ModelTrainerElasticNetConfig:\n",
    "    root_dir: Path\n",
    "    train_data_path: Path\n",
    "    test_data_path: Path\n",
    "    model_name: str\n",
    "    model_output: str\n",
    "    alpha: float\n",
    "    l1_ratio: float\n",
    "    target_column: str\n",
    "\n",
    "@dataclass(frozen=True)\n",
    "class ModelTrainerRandomForestRegressionConfig:\n",
    "    root_dir: Path\n",
    "    train_data_path: Path\n",
    "    test_data_path: Path\n",
    "    model_name: str\n",
    "    model_output: str\n",
    "    n_estimators: int\n",
    "    random_state: int\n",
    "    target_column: str\n",
    "\n",
    "@dataclass(frozen=True)\n",
    "class ModelTrainerKNNRegressionConfig:\n",
    "    root_dir: Path\n",
    "    train_data_path: Path\n",
    "    test_data_path: Path\n",
    "    model_name: str\n",
    "    model_output: str\n",
    "    n_neighbors: int\n",
    "    target_column: str\n",
    "\n",
    "@dataclass(frozen=True)\n",
    "class ModelTrainerXGboostRegressionConfig:\n",
    "    root_dir: Path\n",
    "    train_data_path: Path\n",
    "    test_data_path: Path\n",
    "    model_name: str\n",
    "    model_output: str\n",
    "    objective: str\n",
    "    learning_rate: float\n",
    "    n_estimators: int\n",
    "    max_depth: int\n",
    "    min_child_weight: int\n",
    "    subsample: float\n",
    "    colsample_bytree: float\n",
    "    colsample_bylevel: float\n",
    "    gamma: int\n",
    "    reg_alpha: int\n",
    "    reg_lambda: int\n",
    "    scale_pos_weight: int\n",
    "    target_column: str"
   ]
  },
  {
   "cell_type": "markdown",
   "metadata": {},
   "source": [
    "# Update the configuration manager in src config"
   ]
  },
  {
   "cell_type": "code",
   "execution_count": 4,
   "metadata": {},
   "outputs": [],
   "source": [
    "from mlProject.constants import *\n",
    "from mlProject.utils.common import read_yaml, create_directories\n",
    "from mlProject import logger\n",
    "\n",
    "class ConfigurationManager:\n",
    "    def __init__(\n",
    "        self,\n",
    "        config_filepath = CONFIG_FILE_PATH,\n",
    "        params_filepath = PARAMS_FILE_PATH,\n",
    "        schema_filepath = SCHEMA_FILE_PATH):\n",
    "\n",
    "        self.config = read_yaml(config_filepath)\n",
    "        self.params = read_yaml(params_filepath)\n",
    "        self.schema = read_yaml(schema_filepath)\n",
    "\n",
    "        create_directories([self.config.artifacts_root])\n",
    "\n",
    "\n",
    "    # def get_model_trainer_config(self) -> ModelTrainerConfig:\n",
    "    def get_model_trainer_config(self):\n",
    "        config = self.config.model_trainer\n",
    "        model_name = config.model_name\n",
    "        \n",
    "        def get_model_params(model_name: str):\n",
    "            if model_name in self.params:\n",
    "                return self.params[model_name]\n",
    "            else:\n",
    "                logger.error(\"Model name not exist in params.yaml\")\n",
    "                return None  # Handle the case where model_name is not found in params\n",
    "        \n",
    "        params = get_model_params(model_name)\n",
    "        # print(params)\n",
    "        # params = self.params.ElasticNet\n",
    "        schema = self.schema.TARGET_COLUMN\n",
    "\n",
    "        create_directories([config.root_dir])\n",
    "\n",
    "        if model_name == \"ElasticNet\":\n",
    "            model_trainer_config = ModelTrainerElasticNetConfig(\n",
    "                root_dir=config.root_dir,\n",
    "                train_data_path = config.train_data_path,\n",
    "                test_data_path = config.test_data_path,\n",
    "                model_name = config.model_name,\n",
    "                model_output = config.model_output,\n",
    "                alpha = params.alpha,\n",
    "                l1_ratio = params.l1_ratio,\n",
    "                target_column = schema.name\n",
    "            )\n",
    "        elif model_name == \"RandomForestRegression\":\n",
    "            model_trainer_config = ModelTrainerRandomForestRegressionConfig(\n",
    "                root_dir=config.root_dir,\n",
    "                train_data_path = config.train_data_path,\n",
    "                test_data_path = config.test_data_path,\n",
    "                model_name = config.model_name,\n",
    "                model_output = config.model_output,\n",
    "                n_estimators = params.n_estimators,\n",
    "                random_state = params.random_state,\n",
    "                target_column = schema.name\n",
    "            )\n",
    "\n",
    "        elif model_name == \"KNNRegression\":\n",
    "            model_trainer_config = ModelTrainerKNNRegressionConfig(\n",
    "                root_dir=config.root_dir,\n",
    "                train_data_path = config.train_data_path,\n",
    "                test_data_path = config.test_data_path,\n",
    "                model_name = config.model_name,\n",
    "                model_output = config.model_output,\n",
    "                n_neighbors = params.n_neighbors,\n",
    "                target_column = schema.name\n",
    "            )\n",
    "\n",
    "        elif model_name == \"XGboostRegression\":\n",
    "            model_trainer_config = ModelTrainerXGboostRegressionConfig(\n",
    "                root_dir=config.root_dir,\n",
    "                train_data_path = config.train_data_path,\n",
    "                test_data_path = config.test_data_path,\n",
    "                model_name = config.model_name,\n",
    "                model_output = config.model_output,\n",
    "                objective = params.objective,\n",
    "                learning_rate = params.learning_rate,\n",
    "                n_estimators = params.n_estimators,\n",
    "                max_depth = params.max_depth,\n",
    "                min_child_weight = params.min_child_weight,\n",
    "                subsample = params.subsample,\n",
    "                colsample_bytree = params.colsample_bytree,\n",
    "                colsample_bylevel = params.colsample_bylevel,\n",
    "                gamma = params.gamma,\n",
    "                reg_alpha = params.reg_alpha,\n",
    "                reg_lambda = params.reg_lambda,\n",
    "                scale_pos_weight = params.scale_pos_weight,\n",
    "                target_column = schema.name\n",
    "            )\n",
    "\n",
    "        return model_trainer_config"
   ]
  },
  {
   "cell_type": "markdown",
   "metadata": {},
   "source": [
    "# Update the components"
   ]
  },
  {
   "cell_type": "code",
   "execution_count": 5,
   "metadata": {},
   "outputs": [],
   "source": [
    "import pandas as pd\n",
    "import os\n",
    "from xgboost import XGBRegressor\n",
    "from mlProject import logger\n",
    "from sklearn.linear_model import ElasticNet\n",
    "from sklearn.ensemble import RandomForestRegressor\n",
    "from sklearn.neighbors import KNeighborsRegressor\n",
    "\n",
    "import joblib"
   ]
  },
  {
   "cell_type": "code",
   "execution_count": 6,
   "metadata": {},
   "outputs": [],
   "source": [
    "class ModelTrainer:\n",
    "    # def __init__(self, config: ModelTrainerConfig):\n",
    "    def __init__(self, config):\n",
    "        self.config = config\n",
    "\n",
    "    \n",
    "    def train(self):\n",
    "        train_data = pd.read_csv(self.config.train_data_path)\n",
    "        test_data = pd.read_csv(self.config.test_data_path)\n",
    "\n",
    "\n",
    "        train_x = train_data.drop([self.config.target_column], axis=1)\n",
    "        test_x = test_data.drop([self.config.target_column], axis=1)\n",
    "        train_y = train_data[[self.config.target_column]]\n",
    "        test_y = test_data[[self.config.target_column]]\n",
    "\n",
    "        model_name = self.config.model_name\n",
    "\n",
    "        # add if using different pretrain model\n",
    "        if model_name == \"ElasticNet\":\n",
    "            lr = ElasticNet(alpha=self.config.alpha, l1_ratio=self.config.l1_ratio, random_state=42)\n",
    "            lr.fit(train_x, train_y)\n",
    "\n",
    "            joblib.dump(lr, os.path.join(self.config.root_dir, self.config.model_output))\n",
    "        \n",
    "        elif model_name == \"RandomForestRegression\":\n",
    "            regressor = RandomForestRegressor(n_estimators=self.config.n_estimators, random_state=self.config.random_state)\n",
    "            regressor.fit(train_x, train_y)\n",
    "\n",
    "            joblib.dump(regressor, os.path.join(self.config.root_dir, self.config.model_output))\n",
    "\n",
    "        elif model_name == \"KNNRegression\":\n",
    "            knn_regressor = KNeighborsRegressor(n_neighbors=self.config.n_neighbors)\n",
    "            knn_regressor.fit(train_x, train_y)\n",
    "\n",
    "            joblib.dump(knn_regressor, os.path.join(self.config.root_dir, self.config.model_output))\n",
    "        \n",
    "        elif model_name == \"XGboostRegression\":\n",
    "            xgb_regressor = XGBRegressor(objective=self.config.objective, learning_rate=self.config.learning_rate, n_estimators=self.config.n_estimators, max_depth=self.config.max_depth, min_child_weight=self.config.min_child_weight, subsample=self.config.subsample, colsample_bytree=self.config.colsample_bytree, colsample_bylevel=self.config.colsample_bylevel, gamma=self.config.gamma, reg_alpha=self.config.reg_alpha, reg_lambda=self.config.reg_lambda, scale_pos_weight=self.config.scale_pos_weight)\n",
    "            xgb_regressor.fit(train_x, train_y)\n",
    "\n",
    "            joblib.dump(xgb_regressor, os.path.join(self.config.root_dir, self.config.model_output))\n"
   ]
  },
  {
   "cell_type": "markdown",
   "metadata": {},
   "source": [
    "# Update the pipeline"
   ]
  },
  {
   "cell_type": "code",
   "execution_count": 7,
   "metadata": {},
   "outputs": [
    {
     "name": "stdout",
     "output_type": "stream",
     "text": [
      "[2023-12-15 11:28:22,557: INFO: common: yaml file: config/config.yaml loaded successfully]\n",
      "[2023-12-15 11:28:22,559: INFO: common: yaml file: params.yaml loaded successfully]\n",
      "[2023-12-15 11:28:22,561: INFO: common: yaml file: schema.yaml loaded successfully]\n",
      "[2023-12-15 11:28:22,562: INFO: common: created directory at: artifacts]\n",
      "[2023-12-15 11:28:22,563: INFO: common: created directory at: artifacts/04_model_trainer]\n"
     ]
    }
   ],
   "source": [
    "try:\n",
    "    config = ConfigurationManager()\n",
    "    model_trainer_config = config.get_model_trainer_config()\n",
    "    model_trainer_config = ModelTrainer(config=model_trainer_config)\n",
    "    model_trainer_config.train()\n",
    "except Exception as e:\n",
    "    raise e"
   ]
  }
 ],
 "metadata": {
  "kernelspec": {
   "display_name": "mlflow",
   "language": "python",
   "name": "python3"
  },
  "language_info": {
   "codemirror_mode": {
    "name": "ipython",
    "version": 3
   },
   "file_extension": ".py",
   "mimetype": "text/x-python",
   "name": "python",
   "nbconvert_exporter": "python",
   "pygments_lexer": "ipython3",
   "version": "3.8.18"
  }
 },
 "nbformat": 4,
 "nbformat_minor": 2
}
